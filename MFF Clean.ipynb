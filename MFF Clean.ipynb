{
 "cells": [
  {
   "cell_type": "code",
   "execution_count": 20,
   "id": "28782bed",
   "metadata": {},
   "outputs": [],
   "source": [
    "import networkx as nx\n",
    "import matplotlib.pyplot as plt\n",
    "import random\n",
    "import itertools\n",
    "import math\n",
    "import numpy"
   ]
  },
  {
   "cell_type": "code",
   "execution_count": 21,
   "id": "ec5fbddf",
   "metadata": {},
   "outputs": [],
   "source": [
    "# Return the average in-degree of the given graph\n",
    "def averageInDegree(G):\n",
    "    # sum of the degrees of all its nodes divided by the number of nodes in the graph\n",
    "    degreeSum = 0\n",
    "    for node in G.nodes: \n",
    "        degreeSum += (G.in_degree[node])\n",
    "    \n",
    "    # divide by number of nodes\n",
    "    return degreeSum/len(G.nodes)"
   ]
  },
  {
   "cell_type": "code",
   "execution_count": null,
   "id": "b243ed46",
   "metadata": {},
   "outputs": [],
   "source": [
    "# Compute User Activity for the given node in network \n",
    "def UserActivity(G,node_num):\n",
    "    \n",
    "    return (G.in_degree[node_num]*random.random())/(len(G.nodes))"
   ]
  },
  {
   "cell_type": "code",
   "execution_count": 22,
   "id": "7c873d76",
   "metadata": {},
   "outputs": [],
   "source": [
    "# Sigmoid scaling function to generate probabiltiies between 0 and 1 \n",
    "def sigmoid(x):\n",
    "    return ((2)/(1+math.exp(-x)))-1"
   ]
  },
  {
   "cell_type": "code",
   "execution_count": 23,
   "id": "e3b1090b",
   "metadata": {},
   "outputs": [],
   "source": [
    "# Compute tweet probability (f_u) for all nodes in G \n",
    "def compute_tweet_prob(G, TS, UA, scale_factor):\n",
    "    scale_factor = scale_factor\n",
    "    w_1 = 0.1\n",
    "    w_2 = 1-w_1\n",
    "    \n",
    "    # compute f_u \n",
    "    f = (w_1*TS + w_2*UA)*scale_factor\n",
    "        \n",
    "    return f\n",
    "    "
   ]
  },
  {
   "cell_type": "code",
   "execution_count": 24,
   "id": "e4f2d5dd",
   "metadata": {},
   "outputs": [],
   "source": [
    "# Compute IsMentioned variable for given tweeter (node1) and follower (node2)\n",
    "def isMentioned(G,node1,node2):\n",
    "    isMentioned = 0\n",
    "    \n",
    "    if node2 in list(G.neighbors(node1)) and node2 in list(G.predecessors(node1)):\n",
    "        isMentioned = 1\n",
    "        \n",
    "    # add random factor \n",
    "    return isMentioned*random.random()"
   ]
  },
  {
   "cell_type": "code",
   "execution_count": 25,
   "id": "0769a5c4",
   "metadata": {},
   "outputs": [],
   "source": [
    "# Compute pairwise retweet probability (r_u) between the tweeting node (node1) and follower node (node2)\n",
    "def compute_retweet_prob(G,node1,node2,scale_factor,TS,UA):\n",
    "    scale_factor = scale_factor\n",
    "    \n",
    "    # Compute # common following\n",
    "    node1_following = set(G.neighbors(node1))\n",
    "    node2_following = set(G.neighbors(node2))\n",
    "    \n",
    "    num_common_following = len(node1_following.intersection(node2_following))\n",
    "    \n",
    "    # Compute # common followers\n",
    "    node1_followers = set(G.predecessors(node1))\n",
    "    node2_followers = set(G.predecessors(node2))\n",
    "    \n",
    "    num_common_followers = len(node1_followers.intersection(node2_followers))\n",
    "\n",
    "    # Compute Similarity Score \n",
    "    w_following = 0.5\n",
    "    w_followers = 1-w_following \n",
    "    \n",
    "    SS = w_following*num_common_following + w_followers*num_common_followers\n",
    "    \n",
    "    # Compute IsMentioned\n",
    "    IM = isMentioned(G,node1,node2)\n",
    "    \n",
    "    # Compute r_u \n",
    "    w_SS = 0.4\n",
    "    w_TS = 0.1\n",
    "    w_UA = 0.25\n",
    "    w_IM = 0.25\n",
    "    \n",
    "    r_u = scale_factor*(w_SS*SS + w_TS*TS + w_UA*UA + w_IM*IM)\n",
    "    \n",
    "    return r_u"
   ]
  },
  {
   "cell_type": "code",
   "execution_count": 26,
   "id": "8ac5ee33",
   "metadata": {},
   "outputs": [],
   "source": [
    "# Compute what the total sum of both in-degrees/out-degrees should be based on edge probability, p\n",
    "def total_degree_sum(p, num_nodes):\n",
    "    return p*(num_nodes**2)"
   ]
  },
  {
   "cell_type": "code",
   "execution_count": 27,
   "id": "1cbb1531",
   "metadata": {},
   "outputs": [],
   "source": [
    "import numpy as np \n",
    "# Create a degree distribution based on the total number of nodes and total in-degree/out-degree sum\n",
    "def createRandomDist(num_nodes, totalDegSum):\n",
    "    \n",
    "    in_degrees = np.random.dirichlet(np.ones(numNodes-1),size=1)[0]\n",
    "    out_degrees = np.random.dirichlet(np.ones(numNodes-1),size=1)[0]\n",
    "    \n",
    "    in_degrees_final = [int(d*totalDegSum) for d in in_degrees]\n",
    "    out_degrees_final = [int(d*totalDegSum) for d in out_degrees]\n",
    "    \n",
    "    # create last value \n",
    "    in_deg_sum = sum(in_degrees_final)\n",
    "    out_deg_sum = sum(out_degrees_final)\n",
    "    \n",
    "    diff = in_deg_sum - out_deg_sum \n",
    "    \n",
    "    if diff<0:  # outdeg>indeg\n",
    "        out_degrees_final.append(0)\n",
    "        in_degrees_final.append((-1)*diff)\n",
    "    elif diff>0: # indeg>outeg\n",
    "        out_degrees_final.append(diff)\n",
    "        in_degrees_final.append(0)\n",
    "    else:\n",
    "        rannum = random.randint(0,300)\n",
    "        out_degrees_final.append(rannum)\n",
    "        in_degrees_final.append(rannum)\n",
    "    \n",
    "    return in_degrees_final, out_degrees_final\n"
   ]
  },
  {
   "cell_type": "code",
   "execution_count": 48,
   "id": "4f37c1af",
   "metadata": {},
   "outputs": [],
   "source": [
    "# Modified Forest Fire Algorithm \n",
    "# Inputs: graph (G), dictionary of tweet probabilites (f), dictionary of retweet probabilities (r)\n",
    "# tweet probability threshold (f_0), retweet probability threshold (r_0)\n",
    "# Output: S - list of spreaders, N - list of nonspreaders\n",
    "# (For graphing purposes): num_spreaders, num_nonspreaders, and num_trees - lists containing the number of \n",
    "# nodes in each category at each iteration \n",
    "# iterations - the total number of iterations\n",
    "def mff(G, f, r, f_0, r_0):\n",
    "    S = set()\n",
    "    N = set()\n",
    "    fire = [] \n",
    "    num_spreaders = []\n",
    "    num_nonspreaders = []\n",
    "    num_trees = []\n",
    "    iterations = 0\n",
    "    status = {}\n",
    "    \n",
    "    \n",
    "    # Initialize statuses of nodes based ont weet probabilities\n",
    "    for node in G.nodes(): \n",
    "        if f[node] >= f_0: \n",
    "            status[node] = 1\n",
    "            fire.append(node)\n",
    "            S.add(node)\n",
    "        else: \n",
    "            status[node] = 0\n",
    "\n",
    "    # Loop through all nodes on fire and check on their neighbors \n",
    "    while (len(fire)!=0):\n",
    "        node = fire.pop()\n",
    "        \n",
    "        # Check neighbros of node on fire\n",
    "        for neighbor in G.predecessors(node):\n",
    "            if status[neighbor] == 0 or status[neighbor] == -1: \n",
    "                if r[(node,neighbor)]>= r_0:\n",
    "                    status[neighbor] = 1\n",
    "                    fire.append(neighbor)\n",
    "                    S.add(neighbor)\n",
    "                    if neighbor in N: \n",
    "                        N.remove(neighbor)\n",
    "                else: \n",
    "                    status[neighbor] = -1\n",
    "                    N.add(neighbor)\n",
    "        \n",
    "            # Keep track of composition of nodes at this iteration \n",
    "            num_spreaders.append(len(S))\n",
    "            num_nonspreaders.append(len(N))\n",
    "            num_trees.append(len(G.nodes)-(len(S)+len(N)))\n",
    "                \n",
    "            iterations= iterations + 1\n",
    "\n",
    "\n",
    "    return S,N, num_spreaders, num_nonspreaders, num_trees, iterations\n",
    "                "
   ]
  },
  {
   "cell_type": "markdown",
   "id": "a8146a91",
   "metadata": {},
   "source": [
    "# Run 1"
   ]
  },
  {
   "cell_type": "code",
   "execution_count": 29,
   "id": "658410de",
   "metadata": {},
   "outputs": [],
   "source": [
    "# Define Graph \n",
    "numNodes = 5000\n",
    "p = 0.15\n",
    "averageDeg = numNodes*p\n",
    "totalDegSum = total_degree_sum(p,numNodes)\n",
    "\n",
    "degree = createRandomDist(numNodes,totalDegSum)\n",
    "in_degrees = degree[0]\n",
    "out_degrees = degree[1]"
   ]
  },
  {
   "cell_type": "code",
   "execution_count": 30,
   "id": "d47b7c0f",
   "metadata": {},
   "outputs": [],
   "source": [
    "# Define graph using random distribution \n",
    "G1 = nx.directed_configuration_model(in_degree_sequence = in_degrees,out_degree_sequence = out_degrees)"
   ]
  },
  {
   "cell_type": "code",
   "execution_count": 31,
   "id": "a7b7aa29",
   "metadata": {},
   "outputs": [],
   "source": [
    "# Compute all user activities \n",
    "UA = {}\n",
    "for node in G1.nodes: \n",
    "    UA[node] = UserActivity(G1,node)\n",
    "\n",
    "# Define topic significance\n",
    "TS = 1"
   ]
  },
  {
   "cell_type": "code",
   "execution_count": 44,
   "id": "7d1fe6f3",
   "metadata": {},
   "outputs": [],
   "source": [
    "# Compute tweet probabilities for each node and pass through sigmoid function\n",
    "f_u = {}\n",
    "f_u_sigmoid = {}\n",
    "scale_factor = 1.7\n",
    "\n",
    "for node in G1.nodes: \n",
    "    # compute this nodes tweet probability using topic significance, user activity, and the scale factor\n",
    "    f =  compute_tweet_prob(G1,TS,UA[node],scale_factor)\n",
    "    f_u[node]=f\n",
    "    f_u_sigmoid[node] = sigmoid(f)"
   ]
  },
  {
   "cell_type": "code",
   "execution_count": 45,
   "id": "bbdd6000",
   "metadata": {},
   "outputs": [],
   "source": [
    "# Compute retweet probabilities for each user-follower pair (each connected pair of nodes) + pass through sigmoid function\n",
    "r_u = {}\n",
    "r_u_sigmoid = {}\n",
    "scale_factor = 1\n",
    "\n",
    "for node in G1.nodes: \n",
    "    # Loop through followers of each node to compute their retweet probability \n",
    "    for follower in G1.predecessors(node):\n",
    "        r = compute_retweet_prob(G1,node,follower,scale_factor,TS,UA[node])\n",
    "        r_u[(node,follower)] = r\n",
    "        r_u_sigmoid[(node,follower)] = sigmoid(r)\n",
    "\n"
   ]
  },
  {
   "cell_type": "code",
   "execution_count": 46,
   "id": "a22ca39b",
   "metadata": {},
   "outputs": [],
   "source": [
    "# Helper function to scale tweet probabilites for below graph \n",
    "def scale_tweet_probs(scale_factor,f_u_init, f_u_sigmoid_init): \n",
    "    #f_u_copy = copy.deepcopy(f_u_init)\n",
    "    f_u_scaled = {}\n",
    "    f_u_sigmoid_scaled = {}\n",
    "    \n",
    "    for node in f_u_init: \n",
    "        # compute f_u \n",
    "        f = f_u_init[node]*scale_factor \n",
    "        f_u_scaled[node]=f\n",
    "        f_u_sigmoid_scaled[node] = sigmoid(f)\n",
    "        \n",
    "    return f_u_scaled, f_u_sigmoid_scaled"
   ]
  },
  {
   "cell_type": "code",
   "execution_count": 50,
   "id": "aae2b38c",
   "metadata": {},
   "outputs": [],
   "source": [
    "# Run simulation on graph with the scaled tweet and retweet probabilities and thresholds of 0.5 as parameters \n",
    "r_0 = 0.5\n",
    "f_0 = 0.5\n",
    "lists = mff(G1,f_u_sigmoid,r_u_sigmoid,f_0,r_0)\n",
    "\n",
    "# Save outputs \n",
    "S = lists[0]\n",
    "N = lists[1]\n",
    "\n",
    "num_S = lists[2]\n",
    "num_N = lists[3]\n",
    "num_T = lists[4]\n",
    "\n",
    "iterations = lists[5]\n"
   ]
  },
  {
   "cell_type": "code",
   "execution_count": 51,
   "id": "3cac63e4",
   "metadata": {},
   "outputs": [
    {
     "data": {
      "image/png": "[encoded data removed]",
      "text/plain": [
       "<Figure size 640x480 with 1 Axes>"
      ]
     },
     "metadata": {},
     "output_type": "display_data"
    }
   ],
   "source": [
    "# Plot the number of spreaders and non-spreaders over iterations \n",
    "import matplotlib.pyplot as plt\n",
    "\n",
    "plt.plot(num_S, label='number of spreaders',linestyle='dashed')\n",
    "plt.plot(num_N, label='number of nonspreaders',linestyle='dashed')\n",
    "plt.plot(num_T, label='number of trees',linestyle='dashed')\n",
    "plt.axhline(y=0, color='black', linestyle='-')\n",
    "\n",
    "plt.xlabel('Iterations')\n",
    "plt.ylabel('Number of nodes')\n",
    "plt.title('Number of Spreaders, Non-Spreaders, and Trees over Time')\n",
    "plt.legend()\n",
    "plt.show()"
   ]
  },
  {
   "cell_type": "code",
   "execution_count": null,
   "id": "ab9e6f2f",
   "metadata": {},
   "outputs": [],
   "source": []
  },
  {
   "cell_type": "code",
   "execution_count": null,
   "id": "edcd865b",
   "metadata": {},
   "outputs": [],
   "source": []
  }
 ],
 "metadata": {
  "kernelspec": {
   "display_name": "Python 3 (ipykernel)",
   "language": "python",
   "name": "python3"
  },
  "language_info": {
   "codemirror_mode": {
    "name": "ipython",
    "version": 3
   },
   "file_extension": ".py",
   "mimetype": "text/x-python",
   "name": "python",
   "nbconvert_exporter": "python",
   "pygments_lexer": "ipython3",
   "version": "3.9.13"
  }
 },
 "nbformat": 4,
 "nbformat_minor": 5
}
